{
  "nbformat": 4,
  "nbformat_minor": 0,
  "metadata": {
    "colab": {
      "provenance": [],
      "gpuType": "T4",
      "authorship_tag": "ABX9TyP32uVAUH2OPKgnNr/+XKNp",
      "include_colab_link": true
    },
    "kernelspec": {
      "name": "python3",
      "display_name": "Python 3"
    },
    "language_info": {
      "name": "python"
    },
    "accelerator": "GPU"
  },
  "cells": [
    {
      "cell_type": "markdown",
      "metadata": {
        "id": "view-in-github",
        "colab_type": "text"
      },
      "source": [
        "<a href=\"https://colab.research.google.com/github/NoCodeProgram/deepLearning/blob/main/transformer/vitTransfer.ipynb\" target=\"_parent\"><img src=\"https://colab.research.google.com/assets/colab-badge.svg\" alt=\"Open In Colab\"/></a>"
      ]
    },
    {
      "cell_type": "code",
      "execution_count": 1,
      "metadata": {
        "id": "D2za3rjyvkql"
      },
      "outputs": [],
      "source": [
        "import torch\n",
        "import torchvision\n",
        "import torchvision.transforms as transforms\n",
        "from torch.utils.data import DataLoader\n",
        "from torchvision.models import vit_b_16, ViT_B_16_Weights\n",
        "import torch.nn as nn\n",
        "import torch.optim as optim"
      ]
    },
    {
      "cell_type": "code",
      "source": [
        "# Device configuration\n",
        "device = torch.device('cuda' if torch.cuda.is_available() else 'cpu')\n",
        "print(device)"
      ],
      "metadata": {
        "colab": {
          "base_uri": "https://localhost:8080/"
        },
        "id": "LCk3ctwJwof8",
        "outputId": "2882f205-2d64-4924-af2c-44a41198d5f0"
      },
      "execution_count": 2,
      "outputs": [
        {
          "output_type": "stream",
          "name": "stdout",
          "text": [
            "cuda\n"
          ]
        }
      ]
    },
    {
      "cell_type": "code",
      "source": [
        "# Hyperparameters\n",
        "num_epochs = 10\n",
        "batch_size = 64\n",
        "learning_rate = 0.001"
      ],
      "metadata": {
        "id": "3DGaKnNvw20h"
      },
      "execution_count": 3,
      "outputs": []
    },
    {
      "cell_type": "code",
      "source": [
        "# Data preprocessing\n",
        "transform = transforms.Compose([\n",
        "    transforms.Resize(224),  # ViT requires 224x224 input\n",
        "    transforms.ToTensor(),\n",
        "    transforms.Normalize(mean=[0.485, 0.456, 0.406], std=[0.229, 0.224, 0.225])\n",
        "])"
      ],
      "metadata": {
        "id": "3C95s6_Uwq7h"
      },
      "execution_count": 4,
      "outputs": []
    },
    {
      "cell_type": "code",
      "source": [
        "# Load CIFAR10 dataset\n",
        "train_dataset = torchvision.datasets.CIFAR10(root='./data', train=True,\n",
        "                                           download=True, transform=transform)\n",
        "test_dataset = torchvision.datasets.CIFAR10(root='./data', train=False,\n",
        "                                          download=True, transform=transform)\n",
        "\n",
        "train_loader = DataLoader(train_dataset, batch_size=batch_size, shuffle=True)\n",
        "test_loader = DataLoader(test_dataset, batch_size=batch_size, shuffle=False)"
      ],
      "metadata": {
        "colab": {
          "base_uri": "https://localhost:8080/"
        },
        "id": "gMUprHAvwr5V",
        "outputId": "dd8746f3-9e97-4476-dbbc-30f0c1fdb54e"
      },
      "execution_count": 5,
      "outputs": [
        {
          "output_type": "stream",
          "name": "stdout",
          "text": [
            "Files already downloaded and verified\n",
            "Files already downloaded and verified\n"
          ]
        }
      ]
    },
    {
      "cell_type": "code",
      "source": [
        "# Load pre-trained ViT model\n",
        "model = vit_b_16(weights=ViT_B_16_Weights.IMAGENET1K_V1)\n",
        "#you can freeze everything except the head\n",
        "for param in model.parameters():\n",
        "    param.requires_grad = False\n",
        "\n",
        "# Unfreeze only the classification head\n",
        "for param in model.heads.parameters():\n",
        "    param.requires_grad = True\n"
      ],
      "metadata": {
        "id": "fBz0qBpjwtL8"
      },
      "execution_count": 6,
      "outputs": []
    },
    {
      "cell_type": "code",
      "source": [
        "# Modify the classifier for CIFAR10 (10 classes)\n",
        "num_features = model.heads.head.in_features\n",
        "model.heads.head = nn.Linear(num_features, 10)\n",
        "model = model.to(device)\n"
      ],
      "metadata": {
        "id": "ROc4eBoywunA"
      },
      "execution_count": 7,
      "outputs": []
    },
    {
      "cell_type": "code",
      "source": [
        "# Loss and optimizer\n",
        "criterion = nn.CrossEntropyLoss()\n",
        "optimizer = optim.Adam(model.parameters(), lr=learning_rate)"
      ],
      "metadata": {
        "id": "vCYvIJVkwv12"
      },
      "execution_count": 8,
      "outputs": []
    },
    {
      "cell_type": "code",
      "source": [
        "print(f'Training on {device}')\n",
        "for epoch in range(num_epochs):\n",
        "    model.train()\n",
        "    running_loss = 0.0\n",
        "    correct = 0\n",
        "    total = 0\n",
        "\n",
        "    # Training phase\n",
        "    for batch_idx, (images, labels) in enumerate(train_loader):\n",
        "        images = images.to(device)\n",
        "        labels = labels.to(device)\n",
        "\n",
        "        # Forward pass\n",
        "        outputs = model(images)\n",
        "        loss = criterion(outputs, labels)\n",
        "\n",
        "        # Backward and optimize\n",
        "        optimizer.zero_grad()\n",
        "        loss.backward()\n",
        "        optimizer.step()\n",
        "\n",
        "        running_loss += loss.item()\n",
        "        _, predicted = outputs.max(1)\n",
        "        total += labels.size(0)\n",
        "        correct += predicted.eq(labels).sum().item()\n",
        "\n",
        "        # Print progress every 100 batches\n",
        "        if (batch_idx + 1) % 100 == 0:\n",
        "            print(f'Epoch [{epoch+1}/{num_epochs}], Step [{batch_idx+1}/{len(train_loader)}], '\n",
        "                  f'Loss: {running_loss/100:.4f}, Acc: {100.*correct/total:.2f}%')\n",
        "            running_loss = 0.0\n",
        "\n",
        "    # Validation phase\n",
        "    model.eval()\n",
        "    correct = 0\n",
        "    total = 0\n",
        "    with torch.no_grad():\n",
        "        for images, labels in test_loader:\n",
        "            images = images.to(device)\n",
        "            labels = labels.to(device)\n",
        "            outputs = model(images)\n",
        "            _, predicted = outputs.max(1)\n",
        "            total += labels.size(0)\n",
        "            correct += predicted.eq(labels).sum().item()\n",
        "\n",
        "    print(f'Epoch [{epoch+1}/{num_epochs}] Test Accuracy: {100.*correct/total:.2f}%')\n",
        "\n",
        "print('Training finished!')"
      ],
      "metadata": {
        "colab": {
          "base_uri": "https://localhost:8080/"
        },
        "id": "qCkWVB-XwxAY",
        "outputId": "5220fb34-c16d-481b-e58d-d0dbd7444966"
      },
      "execution_count": null,
      "outputs": [
        {
          "output_type": "stream",
          "name": "stdout",
          "text": [
            "Training on cuda\n",
            "Epoch [1/10], Step [100/782], Loss: 0.5673, Acc: 86.89%\n",
            "Epoch [1/10], Step [200/782], Loss: 0.2328, Acc: 89.91%\n",
            "Epoch [1/10], Step [300/782], Loss: 0.1948, Acc: 91.24%\n",
            "Epoch [1/10], Step [400/782], Loss: 0.1743, Acc: 92.10%\n",
            "Epoch [1/10], Step [500/782], Loss: 0.1767, Acc: 92.49%\n",
            "Epoch [1/10], Step [600/782], Loss: 0.1631, Acc: 92.88%\n",
            "Epoch [1/10], Step [700/782], Loss: 0.1669, Acc: 93.16%\n",
            "Epoch [1/10] Test Accuracy: 94.83%\n",
            "Epoch [2/10], Step [100/782], Loss: 0.1397, Acc: 95.47%\n",
            "Epoch [2/10], Step [200/782], Loss: 0.1439, Acc: 95.48%\n",
            "Epoch [2/10], Step [300/782], Loss: 0.1355, Acc: 95.54%\n",
            "Epoch [2/10], Step [400/782], Loss: 0.1413, Acc: 95.47%\n",
            "Epoch [2/10], Step [500/782], Loss: 0.1383, Acc: 95.46%\n",
            "Epoch [2/10], Step [600/782], Loss: 0.1364, Acc: 95.46%\n",
            "Epoch [2/10], Step [700/782], Loss: 0.1409, Acc: 95.48%\n",
            "Epoch [2/10] Test Accuracy: 95.17%\n",
            "Epoch [3/10], Step [100/782], Loss: 0.1225, Acc: 96.06%\n",
            "Epoch [3/10], Step [200/782], Loss: 0.1192, Acc: 96.12%\n",
            "Epoch [3/10], Step [300/782], Loss: 0.1168, Acc: 96.13%\n",
            "Epoch [3/10], Step [400/782], Loss: 0.1232, Acc: 96.07%\n",
            "Epoch [3/10], Step [500/782], Loss: 0.1252, Acc: 96.03%\n",
            "Epoch [3/10], Step [600/782], Loss: 0.1244, Acc: 95.99%\n",
            "Epoch [3/10], Step [700/782], Loss: 0.1255, Acc: 95.94%\n",
            "Epoch [3/10] Test Accuracy: 95.39%\n",
            "Epoch [4/10], Step [100/782], Loss: 0.1097, Acc: 96.42%\n",
            "Epoch [4/10], Step [200/782], Loss: 0.1093, Acc: 96.43%\n",
            "Epoch [4/10], Step [300/782], Loss: 0.1135, Acc: 96.41%\n",
            "Epoch [4/10], Step [400/782], Loss: 0.1083, Acc: 96.39%\n",
            "Epoch [4/10], Step [500/782], Loss: 0.1070, Acc: 96.42%\n",
            "Epoch [4/10], Step [600/782], Loss: 0.1238, Acc: 96.39%\n",
            "Epoch [4/10], Step [700/782], Loss: 0.1187, Acc: 96.32%\n",
            "Epoch [4/10] Test Accuracy: 95.37%\n",
            "Epoch [5/10], Step [100/782], Loss: 0.0994, Acc: 96.81%\n",
            "Epoch [5/10], Step [200/782], Loss: 0.1045, Acc: 96.69%\n",
            "Epoch [5/10], Step [300/782], Loss: 0.0945, Acc: 96.72%\n",
            "Epoch [5/10], Step [400/782], Loss: 0.1114, Acc: 96.59%\n",
            "Epoch [5/10], Step [500/782], Loss: 0.1095, Acc: 96.56%\n",
            "Epoch [5/10], Step [600/782], Loss: 0.1050, Acc: 96.58%\n",
            "Epoch [5/10], Step [700/782], Loss: 0.1168, Acc: 96.56%\n",
            "Epoch [5/10] Test Accuracy: 95.34%\n",
            "Epoch [6/10], Step [100/782], Loss: 0.0911, Acc: 97.02%\n",
            "Epoch [6/10], Step [200/782], Loss: 0.0921, Acc: 96.96%\n",
            "Epoch [6/10], Step [300/782], Loss: 0.0974, Acc: 96.95%\n",
            "Epoch [6/10], Step [400/782], Loss: 0.1076, Acc: 96.81%\n",
            "Epoch [6/10], Step [500/782], Loss: 0.0984, Acc: 96.82%\n",
            "Epoch [6/10], Step [600/782], Loss: 0.0984, Acc: 96.81%\n",
            "Epoch [6/10], Step [700/782], Loss: 0.1050, Acc: 96.75%\n",
            "Epoch [6/10] Test Accuracy: 95.27%\n",
            "Epoch [7/10], Step [100/782], Loss: 0.0932, Acc: 97.00%\n",
            "Epoch [7/10], Step [200/782], Loss: 0.0948, Acc: 96.95%\n",
            "Epoch [7/10], Step [300/782], Loss: 0.0972, Acc: 96.88%\n",
            "Epoch [7/10], Step [400/782], Loss: 0.0916, Acc: 96.94%\n",
            "Epoch [7/10], Step [500/782], Loss: 0.0964, Acc: 96.89%\n",
            "Epoch [7/10], Step [600/782], Loss: 0.0920, Acc: 96.88%\n",
            "Epoch [7/10], Step [700/782], Loss: 0.1006, Acc: 96.85%\n",
            "Epoch [7/10] Test Accuracy: 95.24%\n",
            "Epoch [8/10], Step [100/782], Loss: 0.0886, Acc: 96.91%\n",
            "Epoch [8/10], Step [200/782], Loss: 0.0864, Acc: 97.01%\n",
            "Epoch [8/10], Step [300/782], Loss: 0.0875, Acc: 97.11%\n",
            "Epoch [8/10], Step [400/782], Loss: 0.0882, Acc: 97.13%\n",
            "Epoch [8/10], Step [500/782], Loss: 0.0944, Acc: 97.09%\n",
            "Epoch [8/10], Step [600/782], Loss: 0.0967, Acc: 97.08%\n",
            "Epoch [8/10], Step [700/782], Loss: 0.0951, Acc: 97.05%\n"
          ]
        }
      ]
    }
  ]
}